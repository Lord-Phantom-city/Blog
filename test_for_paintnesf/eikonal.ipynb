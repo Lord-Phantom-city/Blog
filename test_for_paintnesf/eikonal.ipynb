{
 "cells": [
  {
   "cell_type": "code",
   "execution_count": 2,
   "id": "3c8402fb-0e78-4483-a418-155bfcbe0399",
   "metadata": {},
   "outputs": [],
   "source": [
    "import torch"
   ]
  },
  {
   "cell_type": "code",
   "execution_count": 3,
   "id": "157128c4-0523-47ac-ad0e-0e60b60d5b45",
   "metadata": {},
   "outputs": [
    {
     "name": "stdout",
     "output_type": "stream",
     "text": [
      "Requirement already satisfied: torch in /opt/anaconda3/lib/python3.11/site-packages (2.3.0)\n",
      "Requirement already satisfied: filelock in /opt/anaconda3/lib/python3.11/site-packages (from torch) (3.13.1)\n",
      "Requirement already satisfied: typing-extensions>=4.8.0 in /opt/anaconda3/lib/python3.11/site-packages (from torch) (4.9.0)\n",
      "Requirement already satisfied: sympy in /opt/anaconda3/lib/python3.11/site-packages (from torch) (1.12)\n",
      "Requirement already satisfied: networkx in /opt/anaconda3/lib/python3.11/site-packages (from torch) (3.1)\n",
      "Requirement already satisfied: jinja2 in /opt/anaconda3/lib/python3.11/site-packages (from torch) (3.1.3)\n",
      "Requirement already satisfied: fsspec in /opt/anaconda3/lib/python3.11/site-packages (from torch) (2023.10.0)\n",
      "Requirement already satisfied: MarkupSafe>=2.0 in /opt/anaconda3/lib/python3.11/site-packages (from jinja2->torch) (2.1.3)\n",
      "Requirement already satisfied: mpmath>=0.19 in /opt/anaconda3/lib/python3.11/site-packages (from sympy->torch) (1.3.0)\n",
      "Note: you may need to restart the kernel to use updated packages.\n"
     ]
    }
   ],
   "source": [
    "pip install torch"
   ]
  },
  {
   "cell_type": "code",
   "execution_count": 5,
   "id": "42971ebd-8df5-4494-aa1d-39cb9f10525a",
   "metadata": {},
   "outputs": [],
   "source": [
    "W0=torch.randn(3,32)\n",
    "W0.requires_grad=True\n"
   ]
  },
  {
   "cell_type": "code",
   "execution_count": 73,
   "id": "7195873b-b142-4a3f-ab53-d34783cb08af",
   "metadata": {},
   "outputs": [],
   "source": [
    "W1=torch.randn(32,1)\n",
    "W1.requires_grad=True"
   ]
  },
  {
   "cell_type": "code",
   "execution_count": 74,
   "id": "2fba526e-2e4c-4543-892a-062a624111ca",
   "metadata": {},
   "outputs": [],
   "source": [
    "x=torch.randn(3,1)\n",
    "x.requires_grad=True"
   ]
  },
  {
   "cell_type": "code",
   "execution_count": 75,
   "id": "ba28310e-f15c-4270-8052-9e2f55df07f0",
   "metadata": {},
   "outputs": [],
   "source": [
    "sdf=W1.T@torch.relu(W0.T@x)"
   ]
  },
  {
   "cell_type": "code",
   "execution_count": 76,
   "id": "e5d6ecad-ef43-45ee-9dde-7de7f9d36e73",
   "metadata": {},
   "outputs": [],
   "source": [
    "sdf.backward()"
   ]
  },
  {
   "cell_type": "code",
   "execution_count": 3,
   "id": "bc369efe-89db-430e-b935-feed67c9c1d1",
   "metadata": {},
   "outputs": [],
   "source": [
    "w_1=torch.randn(32,3)\n",
    "w_1.requires_grad=True"
   ]
  },
  {
   "cell_type": "code",
   "execution_count": 4,
   "id": "4376ec4d-7e03-4728-8d8e-c30f01269380",
   "metadata": {},
   "outputs": [],
   "source": [
    "w_2=torch.randn(32,32)\n",
    "w_2.requires_grad=True"
   ]
  },
  {
   "cell_type": "code",
   "execution_count": 5,
   "id": "35425ca3-080f-43e5-82c6-9173488a3517",
   "metadata": {},
   "outputs": [],
   "source": [
    "w_3=torch.randn(1,32)\n",
    "w_3.requires_grad=True"
   ]
  },
  {
   "cell_type": "code",
   "execution_count": 6,
   "id": "aa5f25cf-e404-498c-8c4b-92d4b110bad3",
   "metadata": {},
   "outputs": [],
   "source": [
    "x=torch.randn(3,1)\n",
    "x.requires_grad=True"
   ]
  },
  {
   "cell_type": "code",
   "execution_count": 18,
   "id": "121372c3-8ef9-471c-8edb-87fe54a44f18",
   "metadata": {},
   "outputs": [
    {
     "ename": "RuntimeError",
     "evalue": "you can only change requires_grad flags of leaf variables.",
     "output_type": "error",
     "traceback": [
      "\u001b[0;31m---------------------------------------------------------------------------\u001b[0m",
      "\u001b[0;31mRuntimeError\u001b[0m                              Traceback (most recent call last)",
      "Cell \u001b[0;32mIn[18], line 2\u001b[0m\n\u001b[1;32m      1\u001b[0m out_1\u001b[38;5;241m=\u001b[39mw_1\u001b[38;5;129m@x\u001b[39m\n\u001b[0;32m----> 2\u001b[0m out_1\u001b[38;5;241m.\u001b[39mrequires_grad\u001b[38;5;241m=\u001b[39m\u001b[38;5;28;01mTrue\u001b[39;00m\n",
      "\u001b[0;31mRuntimeError\u001b[0m: you can only change requires_grad flags of leaf variables."
     ]
    }
   ],
   "source": [
    "out_1=w_1@x"
   ]
  },
  {
   "cell_type": "code",
   "execution_count": 8,
   "id": "ba4dd7d1-4d5e-41d0-95ee-f4435d745914",
   "metadata": {},
   "outputs": [],
   "source": [
    "out_2=w_2@torch.relu(out_1)"
   ]
  },
  {
   "cell_type": "code",
   "execution_count": 9,
   "id": "1f4a3129-8292-479e-96d9-5ea9ea4e47e2",
   "metadata": {},
   "outputs": [],
   "source": [
    "y=w_3@torch.relu(out_2)"
   ]
  },
  {
   "cell_type": "code",
   "execution_count": 10,
   "id": "2ca8fcbe-43dc-4633-a043-1686c5fe472b",
   "metadata": {},
   "outputs": [],
   "source": [
    "ans=2y"
   ]
  },
  {
   "cell_type": "code",
   "execution_count": 11,
   "id": "fa1e7e01-c309-4921-b42b-328abd6af93a",
   "metadata": {},
   "outputs": [],
   "source": [
    "ans.backward()"
   ]
  },
  {
   "cell_type": "code",
   "execution_count": 12,
   "id": "548fc32a-ab0f-476b-8dc2-197515919f49",
   "metadata": {},
   "outputs": [
    {
     "name": "stdout",
     "output_type": "stream",
     "text": [
      "tensor([[ 0.0000,  0.0000,  6.5629,  0.0000, 10.1241,  0.0000,  0.0000, 23.5821,\n",
      "          0.0000,  0.0000, 19.5451,  0.0000,  0.0000,  0.0000,  8.2093,  3.8074,\n",
      "          0.0000,  0.0000,  0.0000,  0.0000,  0.0000, 14.5170,  0.0000,  7.5243,\n",
      "         21.7095,  0.0000,  1.4030,  7.7352,  0.0000,  0.0987,  0.0000, 25.3088]])\n"
     ]
    }
   ],
   "source": [
    "print(w_3.grad)"
   ]
  },
  {
   "cell_type": "code",
   "execution_count": 14,
   "id": "8adb992e-fe5d-4d54-98be-801ea7e222ad",
   "metadata": {},
   "outputs": [],
   "source": [
    "t=x.grad"
   ]
  },
  {
   "cell_type": "code",
   "execution_count": 19,
   "id": "92efd064-631a-4148-a986-4ac9e17ea653",
   "metadata": {},
   "outputs": [],
   "source": [
    "dsdf_dpos=(w_3*(torch.relu(w_2@torch.relu(w_1@x)).T))@(w_2*(torch.relu(w_1@x).T))@w_1"
   ]
  },
  {
   "cell_type": "code",
   "execution_count": 20,
   "id": "b10032b4-74f1-49ad-9fbd-c1e5ac9d38cc",
   "metadata": {},
   "outputs": [
    {
     "ename": "RuntimeError",
     "evalue": "grad can be implicitly created only for scalar outputs",
     "output_type": "error",
     "traceback": [
      "\u001b[0;31m---------------------------------------------------------------------------\u001b[0m",
      "\u001b[0;31mRuntimeError\u001b[0m                              Traceback (most recent call last)",
      "Cell \u001b[0;32mIn[20], line 1\u001b[0m\n\u001b[0;32m----> 1\u001b[0m dsdf_dpos\u001b[38;5;241m.\u001b[39mbackward()\n",
      "File \u001b[0;32m/opt/anaconda3/lib/python3.11/site-packages/torch/_tensor.py:525\u001b[0m, in \u001b[0;36mTensor.backward\u001b[0;34m(self, gradient, retain_graph, create_graph, inputs)\u001b[0m\n\u001b[1;32m    515\u001b[0m \u001b[38;5;28;01mif\u001b[39;00m has_torch_function_unary(\u001b[38;5;28mself\u001b[39m):\n\u001b[1;32m    516\u001b[0m     \u001b[38;5;28;01mreturn\u001b[39;00m handle_torch_function(\n\u001b[1;32m    517\u001b[0m         Tensor\u001b[38;5;241m.\u001b[39mbackward,\n\u001b[1;32m    518\u001b[0m         (\u001b[38;5;28mself\u001b[39m,),\n\u001b[0;32m   (...)\u001b[0m\n\u001b[1;32m    523\u001b[0m         inputs\u001b[38;5;241m=\u001b[39minputs,\n\u001b[1;32m    524\u001b[0m     )\n\u001b[0;32m--> 525\u001b[0m torch\u001b[38;5;241m.\u001b[39mautograd\u001b[38;5;241m.\u001b[39mbackward(\n\u001b[1;32m    526\u001b[0m     \u001b[38;5;28mself\u001b[39m, gradient, retain_graph, create_graph, inputs\u001b[38;5;241m=\u001b[39minputs\n\u001b[1;32m    527\u001b[0m )\n",
      "File \u001b[0;32m/opt/anaconda3/lib/python3.11/site-packages/torch/autograd/__init__.py:260\u001b[0m, in \u001b[0;36mbackward\u001b[0;34m(tensors, grad_tensors, retain_graph, create_graph, grad_variables, inputs)\u001b[0m\n\u001b[1;32m    251\u001b[0m inputs \u001b[38;5;241m=\u001b[39m (\n\u001b[1;32m    252\u001b[0m     (inputs,)\n\u001b[1;32m    253\u001b[0m     \u001b[38;5;28;01mif\u001b[39;00m \u001b[38;5;28misinstance\u001b[39m(inputs, (torch\u001b[38;5;241m.\u001b[39mTensor, graph\u001b[38;5;241m.\u001b[39mGradientEdge))\n\u001b[0;32m   (...)\u001b[0m\n\u001b[1;32m    256\u001b[0m     \u001b[38;5;28;01melse\u001b[39;00m \u001b[38;5;28mtuple\u001b[39m()\n\u001b[1;32m    257\u001b[0m )\n\u001b[1;32m    259\u001b[0m grad_tensors_ \u001b[38;5;241m=\u001b[39m _tensor_or_tensors_to_tuple(grad_tensors, \u001b[38;5;28mlen\u001b[39m(tensors))\n\u001b[0;32m--> 260\u001b[0m grad_tensors_ \u001b[38;5;241m=\u001b[39m _make_grads(tensors, grad_tensors_, is_grads_batched\u001b[38;5;241m=\u001b[39m\u001b[38;5;28;01mFalse\u001b[39;00m)\n\u001b[1;32m    261\u001b[0m \u001b[38;5;28;01mif\u001b[39;00m retain_graph \u001b[38;5;129;01mis\u001b[39;00m \u001b[38;5;28;01mNone\u001b[39;00m:\n\u001b[1;32m    262\u001b[0m     retain_graph \u001b[38;5;241m=\u001b[39m create_graph\n",
      "File \u001b[0;32m/opt/anaconda3/lib/python3.11/site-packages/torch/autograd/__init__.py:133\u001b[0m, in \u001b[0;36m_make_grads\u001b[0;34m(outputs, grads, is_grads_batched)\u001b[0m\n\u001b[1;32m    131\u001b[0m \u001b[38;5;28;01mif\u001b[39;00m out\u001b[38;5;241m.\u001b[39mrequires_grad:\n\u001b[1;32m    132\u001b[0m     \u001b[38;5;28;01mif\u001b[39;00m out\u001b[38;5;241m.\u001b[39mnumel() \u001b[38;5;241m!=\u001b[39m \u001b[38;5;241m1\u001b[39m:\n\u001b[0;32m--> 133\u001b[0m         \u001b[38;5;28;01mraise\u001b[39;00m \u001b[38;5;167;01mRuntimeError\u001b[39;00m(\n\u001b[1;32m    134\u001b[0m             \u001b[38;5;124m\"\u001b[39m\u001b[38;5;124mgrad can be implicitly created only for scalar outputs\u001b[39m\u001b[38;5;124m\"\u001b[39m\n\u001b[1;32m    135\u001b[0m         )\n\u001b[1;32m    136\u001b[0m     \u001b[38;5;28;01mif\u001b[39;00m \u001b[38;5;129;01mnot\u001b[39;00m out\u001b[38;5;241m.\u001b[39mdtype\u001b[38;5;241m.\u001b[39mis_floating_point:\n\u001b[1;32m    137\u001b[0m         msg \u001b[38;5;241m=\u001b[39m (\n\u001b[1;32m    138\u001b[0m             \u001b[38;5;124m\"\u001b[39m\u001b[38;5;124mgrad can be implicitly created only for real scalar outputs\u001b[39m\u001b[38;5;124m\"\u001b[39m\n\u001b[1;32m    139\u001b[0m             \u001b[38;5;124mf\u001b[39m\u001b[38;5;124m\"\u001b[39m\u001b[38;5;124m but got \u001b[39m\u001b[38;5;132;01m{\u001b[39;00mout\u001b[38;5;241m.\u001b[39mdtype\u001b[38;5;132;01m}\u001b[39;00m\u001b[38;5;124m\"\u001b[39m\n\u001b[1;32m    140\u001b[0m         )\n",
      "\u001b[0;31mRuntimeError\u001b[0m: grad can be implicitly created only for scalar outputs"
     ]
    }
   ],
   "source": [
    "dsdf_dpos.backward()"
   ]
  }
 ],
 "metadata": {
  "kernelspec": {
   "display_name": "Python 3 (ipykernel)",
   "language": "python",
   "name": "python3"
  },
  "language_info": {
   "codemirror_mode": {
    "name": "ipython",
    "version": 3
   },
   "file_extension": ".py",
   "mimetype": "text/x-python",
   "name": "python",
   "nbconvert_exporter": "python",
   "pygments_lexer": "ipython3",
   "version": "3.11.7"
  }
 },
 "nbformat": 4,
 "nbformat_minor": 5
}
