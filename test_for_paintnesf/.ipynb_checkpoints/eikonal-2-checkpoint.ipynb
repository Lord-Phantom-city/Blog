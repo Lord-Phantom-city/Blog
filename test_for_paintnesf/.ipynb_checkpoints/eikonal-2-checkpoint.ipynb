{
 "cells": [
  {
   "cell_type": "code",
   "execution_count": 9,
   "id": "e065736a",
   "metadata": {},
   "outputs": [],
   "source": [
    "import torch\n",
    "import torchviz"
   ]
  },
  {
   "cell_type": "code",
   "execution_count": 10,
   "id": "8d6f799f",
   "metadata": {},
   "outputs": [
    {
     "name": "stdout",
     "output_type": "stream",
     "text": [
      "tensor([0.4872, 1.9540, 0.1284], requires_grad=True)\n",
      "tensor([-0.5760], grad_fn=<MvBackward0>)\n"
     ]
    }
   ],
   "source": [
    "W0 = torch.randn(3, 4).requires_grad_(True)\n",
    "W1 = torch.randn(4, 1).requires_grad_(True)\n",
    "\n",
    "def sdf(x):\n",
    "    return W1.T @ torch.sigmoid(W0.T @ x)\n",
    "\n",
    "x = torch.randn(3).requires_grad_(True)\n",
    "print(x)\n",
    "s = sdf(x)\n",
    "print(s)\n",
    "\n",
    "# torchviz.make_dot(s, params={'W0' : W0, 'W1' : W1, 'pos': x, 'sdf': s})"
   ]
  },
  {
   "cell_type": "code",
   "execution_count": 11,
   "id": "33d4df1d",
   "metadata": {},
   "outputs": [
    {
     "name": "stdout",
     "output_type": "stream",
     "text": [
      "tensor([-0.1832,  0.1682, -0.0530], grad_fn=<MvBackward0>)\n",
      "tensor([0., 0., 0.], grad_fn=<MvBackward0>)\n"
     ]
    }
   ],
   "source": [
    "dsdf_dpos, = torch.autograd.grad([s], [x], retain_graph=True, create_graph=True)\n",
    "print(dsdf_dpos)\n",
    "\n",
    "dsdf_dpos_formula = W0 @ (W1 * (W0.T @ x >= 0).unsqueeze(1)).squeeze(1)\n",
    "print(dsdf_dpos_formula)"
   ]
  },
  {
   "cell_type": "code",
   "execution_count": 12,
   "id": "7bd872af",
   "metadata": {},
   "outputs": [
    {
     "name": "stdout",
     "output_type": "stream",
     "text": [
      "tensor([ 1.0744, -0.9866,  0.3109])\n",
      "tensor([[-0.3025,  0.0151, -0.2233,  0.0380],\n",
      "        [ 0.1111, -0.1030,  0.0872,  0.0075],\n",
      "        [-0.0867,  0.0048, -0.0640,  0.0108]])\n",
      "tensor([[ 0.2481],\n",
      "        [-0.1413],\n",
      "        [ 0.1050],\n",
      "        [ 0.2448]])\n"
     ]
    }
   ],
   "source": [
    "dsdf_dpos.retain_grad()\n",
    "\n",
    "L_eikonal = (torch.sqrt(dsdf_dpos[0]**2 + dsdf_dpos[1]**2 + dsdf_dpos[2]**2) - 1)**2\n",
    "L_eikonal.backward(retain_graph=True)\n",
    "\n",
    "print(dsdf_dpos.grad)\n",
    "print(W0.grad)\n",
    "print(W1.grad)\n",
    "\n",
    "# torchviz.make_dot(L_eikonal, params={'W0' : W0, 'W1' : W1, 'pos': x, 'sdf': s, 'L_sdf': L_sdf})"
   ]
  },
  {
   "cell_type": "code",
   "execution_count": 13,
   "id": "27923ae7",
   "metadata": {},
   "outputs": [
    {
     "data": {
      "text/plain": [
       "tensor([ 1.0744, -0.9866,  0.3109], grad_fn=<MulBackward0>)"
      ]
     },
     "execution_count": 13,
     "metadata": {},
     "output_type": "execute_result"
    }
   ],
   "source": [
    "a = torch.sqrt(dsdf_dpos[0]**2 + dsdf_dpos[1]**2 + dsdf_dpos[2]**2)\n",
    "dL_dxyz = 2 * (a - 1) / a * dsdf_dpos\n",
    "dL_dxyz"
   ]
  },
  {
   "cell_type": "code",
   "execution_count": 6,
   "id": "b72b5843",
   "metadata": {},
   "outputs": [
    {
     "data": {
      "text/plain": [
       "tensor([[ 0.2041, -0.0960, -0.0000,  0.0672],\n",
       "        [-0.5144,  0.2419,  0.0000, -0.1694],\n",
       "        [-0.3787,  0.1781,  0.0000, -0.1247]], grad_fn=<MulBackward0>)"
      ]
     },
     "execution_count": 6,
     "metadata": {},
     "output_type": "execute_result"
    }
   ],
   "source": [
    "dL_dW0 = dL_dxyz.unsqueeze(1) @ W1.T * (W0.T @ x >= 0).float()\n",
    "dL_dW0"
   ]
  },
  {
   "cell_type": "code",
   "execution_count": 15,
   "id": "d662cc1a",
   "metadata": {},
   "outputs": [
    {
     "data": {
      "text/plain": [
       "tensor([ 0.2481, -0.1413,  0.1050,  0.2448], grad_fn=<SumBackward1>)"
      ]
     },
     "execution_count": 15,
     "metadata": {},
     "output_type": "execute_result"
    }
   ],
   "source": [
    "t = (W0.T @ x).float().sigmoid()\n",
    "dL_dW1 = (dL_dxyz.unsqueeze(1) * W0 * t*(1-t)).sum(0)\n",
    "dL_dW1"
   ]
  },
  {
   "cell_type": "code",
   "execution_count": null,
   "id": "0495659a",
   "metadata": {},
   "outputs": [],
   "source": []
  },
  {
   "cell_type": "code",
   "execution_count": null,
   "id": "1fe5d757",
   "metadata": {},
   "outputs": [],
   "source": []
  }
 ],
 "metadata": {
  "kernelspec": {
   "display_name": "Python 3 (ipykernel)",
   "language": "python",
   "name": "python3"
  },
  "language_info": {
   "codemirror_mode": {
    "name": "ipython",
    "version": 3
   },
   "file_extension": ".py",
   "mimetype": "text/x-python",
   "name": "python",
   "nbconvert_exporter": "python",
   "pygments_lexer": "ipython3",
   "version": "3.9.7"
  }
 },
 "nbformat": 4,
 "nbformat_minor": 5
}
