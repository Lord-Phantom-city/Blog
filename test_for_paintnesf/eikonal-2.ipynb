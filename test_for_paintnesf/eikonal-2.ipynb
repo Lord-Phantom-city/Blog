{
 "cells": [
  {
   "cell_type": "code",
   "execution_count": 3,
   "id": "e065736a",
   "metadata": {},
   "outputs": [],
   "source": [
    "import torch"
   ]
  },
  {
   "cell_type": "code",
   "execution_count": 159,
   "id": "8d6f799f",
   "metadata": {},
   "outputs": [
    {
     "name": "stdout",
     "output_type": "stream",
     "text": [
      "tensor([[ 2.0329],\n",
      "        [-2.0475],\n",
      "        [-1.4333]], requires_grad=True)\n",
      "tensor([[-5.4081]], grad_fn=<MmBackward0>)\n"
     ]
    }
   ],
   "source": [
    "W1 = torch.randn(4, 3).requires_grad_(True)\n",
    "W2 = torch.randn(4, 4).requires_grad_(True)\n",
    "W3 = torch.randn(1, 4).requires_grad_(True)\n",
    "def sdf(x):\n",
    "    return W3 @ torch.relu(W2 @ torch.relu(W1 @ x))\n",
    "\n",
    "x = torch.randn(3,1).requires_grad_(True)\n",
    "print(x)\n",
    "s = sdf(x)\n",
    "print(s)\n",
    "\n",
    "# torchviz.make_dot(s, params={'W0' : W0, 'W1' : W1, 'pos': x, 'sdf': s})"
   ]
  },
  {
   "cell_type": "code",
   "execution_count": 160,
   "id": "33d4df1d",
   "metadata": {},
   "outputs": [
    {
     "name": "stdout",
     "output_type": "stream",
     "text": [
      "tensor([[-0.7697],\n",
      "        [ 1.6181],\n",
      "        [ 0.3701]], grad_fn=<MmBackward0>)\n",
      "tensor([[-0.7697,  1.6181,  0.3701]], grad_fn=<MmBackward0>)\n"
     ]
    }
   ],
   "source": [
    "dsdf_dpos, = torch.autograd.grad([s], [x], retain_graph=True, create_graph=True)\n",
    "print(dsdf_dpos)\n",
    "\n",
    "dsdf_dpos_formula = ( W3*(W2@(torch.relu(W1@x))>=0).T ) @ (W2*(W1@x>=0).T) @ W1\n",
    "\n",
    "print(dsdf_dpos_formula)"
   ]
  },
  {
   "cell_type": "code",
   "execution_count": 161,
   "id": "7bd872af",
   "metadata": {},
   "outputs": [
    {
     "name": "stdout",
     "output_type": "stream",
     "text": [
      "tensor([[-0.6980],\n",
      "        [ 1.4674],\n",
      "        [ 0.3356]])\n",
      "tensor([[ 0.0000,  0.0000,  0.0000],\n",
      "        [ 0.4720, -0.9923, -0.2270],\n",
      "        [ 0.2914, -0.6126, -0.1401],\n",
      "        [ 0.0000,  0.0000,  0.0000]])\n",
      "tensor([[0.0000, 0.0000, 0.0000, 0.0000],\n",
      "        [0.0000, 0.0000, 0.0000, 0.0000],\n",
      "        [0.0000, 1.0122, 1.9597, 0.0000],\n",
      "        [0.0000, 0.0000, 0.0000, 0.0000]])\n",
      "tensor([[ 0.0000,  0.0000, -6.1332,  0.0000]])\n"
     ]
    }
   ],
   "source": [
    "dsdf_dpos.retain_grad()\n",
    "\n",
    "L_eikonal = (torch.sqrt(dsdf_dpos[0]**2 + dsdf_dpos[1]**2 + dsdf_dpos[2]**2) - 1)**2\n",
    "L_eikonal.backward(retain_graph=True)\n",
    "\n",
    "print(dsdf_dpos.grad)\n",
    "print(W1.grad)\n",
    "print(W2.grad)\n",
    "print(W3.grad)\n",
    "\n",
    "# torchviz.make_dot(L_eikonal, params={'W0' : W0, 'W1' : W1, 'pos': x, 'sdf': s, 'L_sdf': L_sdf})"
   ]
  },
  {
   "cell_type": "code",
   "execution_count": 111,
   "id": "27923ae7",
   "metadata": {},
   "outputs": [
    {
     "data": {
      "text/plain": [
       "tensor([[ 1.0038],\n",
       "        [ 0.0351],\n",
       "        [-0.0443]], grad_fn=<MulBackward0>)"
      ]
     },
     "execution_count": 111,
     "metadata": {},
     "output_type": "execute_result"
    }
   ],
   "source": [
    "a = torch.sqrt(dsdf_dpos[0]**2 + dsdf_dpos[1]**2 + dsdf_dpos[2]**2)\n",
    "dL_dxyz = 2 * (a - 1) / a * dsdf_dpos\n",
    "dL_dxyz"
   ]
  },
  {
   "cell_type": "code",
   "execution_count": 88,
   "id": "29b78be0-3b1e-4352-bf03-bd23e7110ebe",
   "metadata": {},
   "outputs": [
    {
     "data": {
      "text/plain": [
       "tensor([[-0.0000,  0.0000, -0.9765, -0.0000],\n",
       "        [-0.0000,  0.0000,  0.1501,  0.0000],\n",
       "        [-0.0000,  0.0000,  1.1988,  0.0000],\n",
       "        [ 0.0000,  0.0000,  1.1419, -0.0000]], grad_fn=<MulBackward0>)"
      ]
     },
     "execution_count": 88,
     "metadata": {},
     "output_type": "execute_result"
    }
   ],
   "source": [
    "W2*(W1 @ x>=0).T"
   ]
  },
  {
   "cell_type": "code",
   "execution_count": 106,
   "id": "a6ed8e9c-6890-4962-88eb-6003584f8b3a",
   "metadata": {},
   "outputs": [
    {
     "name": "stdout",
     "output_type": "stream",
     "text": [
      "tensor([[ 1.9835],\n",
      "        [ 1.9141],\n",
      "        [-1.5980],\n",
      "        [-4.7289]], grad_fn=<MmBackward0>)\n"
     ]
    },
    {
     "data": {
      "text/plain": [
       "tensor([[False],\n",
       "        [False],\n",
       "        [ True],\n",
       "        [False]])"
      ]
     },
     "execution_count": 106,
     "metadata": {},
     "output_type": "execute_result"
    }
   ],
   "source": [
    "dL_dW3=W2@W1@dL_dxyz\n",
    "\n",
    "print(dL_dW3)\n",
    "(W1@x>=0)"
   ]
  },
  {
   "cell_type": "code",
   "execution_count": 85,
   "id": "a5041f98-ef3c-4e7a-a708-0cdef35cdcd2",
   "metadata": {},
   "outputs": [
    {
     "data": {
      "text/plain": [
       "tensor([[False],\n",
       "        [ True],\n",
       "        [ True],\n",
       "        [ True]])"
      ]
     },
     "execution_count": 85,
     "metadata": {},
     "output_type": "execute_result"
    }
   ],
   "source": [
    "(W2@(torch.relu(W1@x))>=0)"
   ]
  },
  {
   "cell_type": "code",
   "execution_count": null,
   "id": "7cc267e9-554d-4d70-a2ba-4ac53886aa18",
   "metadata": {},
   "outputs": [],
   "source": []
  },
  {
   "cell_type": "code",
   "execution_count": null,
   "id": "1c9dd2a4-0655-4019-bdef-b352bbf74406",
   "metadata": {},
   "outputs": [],
   "source": []
  },
  {
   "cell_type": "code",
   "execution_count": 6,
   "id": "b72b5843",
   "metadata": {},
   "outputs": [
    {
     "data": {
      "text/plain": [
       "tensor([[ 0.2041, -0.0960, -0.0000,  0.0672],\n",
       "        [-0.5144,  0.2419,  0.0000, -0.1694],\n",
       "        [-0.3787,  0.1781,  0.0000, -0.1247]], grad_fn=<MulBackward0>)"
      ]
     },
     "execution_count": 6,
     "metadata": {},
     "output_type": "execute_result"
    }
   ],
   "source": [
    "dL_dW0 = dL_dxyz.unsqueeze(1) @ W1.T * (W0.T @ x >= 0).float()\n",
    "dL_dW0"
   ]
  },
  {
   "cell_type": "code",
   "execution_count": 15,
   "id": "d662cc1a",
   "metadata": {},
   "outputs": [
    {
     "data": {
      "text/plain": [
       "tensor([ 0.2481, -0.1413,  0.1050,  0.2448], grad_fn=<SumBackward1>)"
      ]
     },
     "execution_count": 15,
     "metadata": {},
     "output_type": "execute_result"
    }
   ],
   "source": [
    "t = (W0.T @ x).float().sigmoid()\n",
    "dL_dW1 = (dL_dxyz.unsqueeze(1) * W0 * t*(1-t)).sum(0)\n",
    "dL_dW1"
   ]
  },
  {
   "cell_type": "code",
   "execution_count": null,
   "id": "0495659a",
   "metadata": {},
   "outputs": [],
   "source": []
  },
  {
   "cell_type": "code",
   "execution_count": null,
   "id": "1fe5d757",
   "metadata": {},
   "outputs": [],
   "source": []
  }
 ],
 "metadata": {
  "kernelspec": {
   "display_name": "Python 3 (ipykernel)",
   "language": "python",
   "name": "python3"
  },
  "language_info": {
   "codemirror_mode": {
    "name": "ipython",
    "version": 3
   },
   "file_extension": ".py",
   "mimetype": "text/x-python",
   "name": "python",
   "nbconvert_exporter": "python",
   "pygments_lexer": "ipython3",
   "version": "3.11.7"
  }
 },
 "nbformat": 4,
 "nbformat_minor": 5
}
